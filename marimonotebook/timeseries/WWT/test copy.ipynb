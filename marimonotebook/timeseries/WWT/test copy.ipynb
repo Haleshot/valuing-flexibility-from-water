{
 "cells": [
  {
   "cell_type": "code",
   "execution_count": 2,
   "metadata": {},
   "outputs": [],
   "source": [
    "import os\n",
    "import glob\n",
    "import json\n",
    "import numpy as np\n",
    "import pandas as pd"
   ]
  },
  {
   "cell_type": "code",
   "execution_count": 3,
   "metadata": {},
   "outputs": [
    {
     "name": "stdout",
     "output_type": "stream",
     "text": [
      "newyork/Spring.csv\n",
      "newyork/Summer.csv\n",
      "newyork/Winter.csv\n",
      "sanjose/Spring.csv\n",
      "sanjose/Summer.csv\n",
      "sanjose/Winter.csv\n",
      "tampa/Spring.csv\n",
      "tampa/Summer.csv\n",
      "tampa/Winter.csv\n",
      "santabarbara/Spring.csv\n",
      "santabarbara/Summer.csv\n",
      "santabarbara/Winter.csv\n",
      "houston/Spring.csv\n",
      "houston/Summer.csv\n",
      "houston/Winter.csv\n"
     ]
    }
   ],
   "source": [
    "paths = glob.glob('**', recursive=True)\n",
    "for p in paths:\n",
    "    if os.path.isfile(p) and p.endswith('.csv'):\n",
    "        # read the csv\n",
    "        df = pd.read_csv(p)\n",
    "        print(p)\n",
    "        # clip it to one day \n",
    "        df = df.iloc[:96]\n",
    "\n",
    "        # save it as a new csv under the same filename\n",
    "        df.to_csv(p, index=False)"
   ]
  }
 ],
 "metadata": {
  "kernelspec": {
   "display_name": "watertap-dev",
   "language": "python",
   "name": "python3"
  },
  "language_info": {
   "codemirror_mode": {
    "name": "ipython",
    "version": 3
   },
   "file_extension": ".py",
   "mimetype": "text/x-python",
   "name": "python",
   "nbconvert_exporter": "python",
   "pygments_lexer": "ipython3",
   "version": "3.12.1"
  }
 },
 "nbformat": 4,
 "nbformat_minor": 2
}
