{
 "cells": [
  {
   "cell_type": "code",
   "execution_count": 2,
   "metadata": {},
   "outputs": [],
   "source": [
    "import os\n",
    "import glob\n",
    "import json\n",
    "import numpy as np"
   ]
  },
  {
   "cell_type": "code",
   "execution_count": 2,
   "metadata": {},
   "outputs": [],
   "source": [
    "# paths = glob.glob('*.json')\n",
    "\n",
    "# repdays = [\"Weekend\", \n",
    "#            \"WinterWeekday\", \n",
    "#            \"SummerWeekday\"]\n",
    "# wwt_repdays = [\"Winter\", \"Spring\", \"Summer\"]\n",
    "# weights = [105,\n",
    "#            22+20+23+22+21,\n",
    "#            20+23+22+21+23+21+22]\n",
    "# weights = [w/sum(weights) for w in weights]\n",
    "# wwt_weights = [0.4136986301369863, 0.25205479452054796, 0.33424657534246577]\n",
    "# # weights = wwt_weights\n",
    "# # repdays = wwt_repdays\n",
    "# for path in paths:\n",
    "#     data = json.load(open(path))\n",
    "#     system_type = data['system_type']\n",
    "#     rtes = data['daily_rtes']\n",
    "#     ed_n = data['daily_ed_normalized']\n",
    "#     pd_n = data['daily_p_normalized']\n",
    "#     # mkdir for system_type\n",
    "#     if not os.path.exists(system_type):\n",
    "#         os.mkdir(system_type)\n",
    "#     # save a file for each weight\n",
    "#     if system_type == \"WWT\":\n",
    "#         w = wwt_weights\n",
    "#         days = wwt_repdays\n",
    "#     else:\n",
    "#         w = weights\n",
    "#         days = repdays\n",
    "#     for r in range(len(days)):\n",
    "#         # save a file for each repday\n",
    "#         r_data = {\"rte\" : rtes[r], \"ed_n\" : ed_n[r], \"pd_n\" : pd_n[r]}\n",
    "#         with open(f\"{system_type}/{repdays[r]}.json\", 'w') as f:\n",
    "#             json.dump(r_data, f)\n",
    "#     a_rte = np.average(rtes, weights=w)\n",
    "#     a_ed_n = np.average(ed_n, weights=w)\n",
    "#     a_pd_n = np.average(pd_n, weights=w)\n",
    "#     a_data = {\"rte\" : a_rte, \"ed_n\" : a_ed_n, \"pd_n\" : a_pd_n}\n",
    "#     with open(f\"{system_type}/Annualized.json\", 'w') as f:\n",
    "#         json.dump(a_data, f)    \n"
   ]
  },
  {
   "cell_type": "code",
   "execution_count": 3,
   "metadata": {},
   "outputs": [],
   "source": [
    "paths = glob.glob('**', recursive=True)\n",
    "casenames = [\"AWT_curtailed\", \"AWT_nominal\", \"WSD\", \"WWT\"]\n",
    "for p in paths:\n",
    "    # # take out the string \"_costing_data\" from the string\n",
    "    # if \"_costing_data\" in p:\n",
    "    #     new_p = p.replace(\"_costing_data\", \"\")\n",
    "    #     os.rename(p, new_p)\n",
    "    if os.path.isfile(p):    \n",
    "        new_p = p.replace(\"_metrics_summary\", \"\")\n",
    "        os.rename(p, new_p)"
   ]
  }
 ],
 "metadata": {
  "kernelspec": {
   "display_name": "watertap-dev",
   "language": "python",
   "name": "python3"
  },
  "language_info": {
   "codemirror_mode": {
    "name": "ipython",
    "version": 3
   },
   "file_extension": ".py",
   "mimetype": "text/x-python",
   "name": "python",
   "nbconvert_exporter": "python",
   "pygments_lexer": "ipython3",
   "version": "3.12.1"
  }
 },
 "nbformat": 4,
 "nbformat_minor": 2
}
